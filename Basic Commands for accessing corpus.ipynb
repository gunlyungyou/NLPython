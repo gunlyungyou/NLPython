{
 "cells": [
  {
   "cell_type": "code",
   "execution_count": 1,
   "metadata": {},
   "outputs": [],
   "source": [
    "#nltk에서 corpus 불러오기\n",
    "import nltk\n",
    "from nltk.corpus import brown as cb\n",
    "from nltk.corpus import gutenberg as cg"
   ]
  },
  {
   "cell_type": "code",
   "execution_count": 3,
   "metadata": {},
   "outputs": [
    {
     "data": {
      "text/plain": [
       "['_LazyCorpusLoader__args',\n",
       " '_LazyCorpusLoader__kwargs',\n",
       " '_LazyCorpusLoader__load',\n",
       " '_LazyCorpusLoader__name',\n",
       " '_LazyCorpusLoader__reader_cls',\n",
       " '__class__',\n",
       " '__delattr__',\n",
       " '__dict__',\n",
       " '__dir__',\n",
       " '__doc__',\n",
       " '__eq__',\n",
       " '__format__',\n",
       " '__ge__',\n",
       " '__getattr__',\n",
       " '__getattribute__',\n",
       " '__gt__',\n",
       " '__hash__',\n",
       " '__init__',\n",
       " '__init_subclass__',\n",
       " '__le__',\n",
       " '__lt__',\n",
       " '__module__',\n",
       " '__name__',\n",
       " '__ne__',\n",
       " '__new__',\n",
       " '__reduce__',\n",
       " '__reduce_ex__',\n",
       " '__repr__',\n",
       " '__setattr__',\n",
       " '__sizeof__',\n",
       " '__str__',\n",
       " '__subclasshook__',\n",
       " '__unicode__',\n",
       " '__weakref__',\n",
       " '_unload',\n",
       " 'subdir',\n",
       " 'unicode_repr']"
      ]
     },
     "execution_count": 3,
     "metadata": {},
     "output_type": "execute_result"
    }
   ],
   "source": [
    "#brown corpus에 있는 directories 살펴보기\n",
    "dir(cb)"
   ]
  },
  {
   "cell_type": "code",
   "execution_count": 4,
   "metadata": {},
   "outputs": [
    {
     "data": {
      "text/plain": [
       "['adventure',\n",
       " 'belles_lettres',\n",
       " 'editorial',\n",
       " 'fiction',\n",
       " 'government',\n",
       " 'hobbies',\n",
       " 'humor',\n",
       " 'learned',\n",
       " 'lore',\n",
       " 'mystery',\n",
       " 'news',\n",
       " 'religion',\n",
       " 'reviews',\n",
       " 'romance',\n",
       " 'science_fiction']"
      ]
     },
     "execution_count": 4,
     "metadata": {},
     "output_type": "execute_result"
    }
   ],
   "source": [
    "#category 살펴보기\n",
    "cb.categories()"
   ]
  },
  {
   "cell_type": "code",
   "execution_count": 7,
   "metadata": {},
   "outputs": [
    {
     "data": {
      "text/plain": [
       "['ca01',\n",
       " 'ca02',\n",
       " 'ca03',\n",
       " 'ca04',\n",
       " 'ca05',\n",
       " 'ca06',\n",
       " 'ca07',\n",
       " 'ca08',\n",
       " 'ca09',\n",
       " 'ca10',\n",
       " 'ca11',\n",
       " 'ca12',\n",
       " 'ca13',\n",
       " 'ca14',\n",
       " 'ca15',\n",
       " 'ca16',\n",
       " 'ca17',\n",
       " 'ca18',\n",
       " 'ca19',\n",
       " 'ca20',\n",
       " 'ca21',\n",
       " 'ca22',\n",
       " 'ca23',\n",
       " 'ca24',\n",
       " 'ca25',\n",
       " 'ca26',\n",
       " 'ca27',\n",
       " 'ca28',\n",
       " 'ca29',\n",
       " 'ca30',\n",
       " 'ca31',\n",
       " 'ca32',\n",
       " 'ca33',\n",
       " 'ca34',\n",
       " 'ca35',\n",
       " 'ca36',\n",
       " 'ca37',\n",
       " 'ca38',\n",
       " 'ca39',\n",
       " 'ca40',\n",
       " 'ca41',\n",
       " 'ca42',\n",
       " 'ca43',\n",
       " 'ca44',\n",
       " 'cb01',\n",
       " 'cb02',\n",
       " 'cb03',\n",
       " 'cb04',\n",
       " 'cb05',\n",
       " 'cb06',\n",
       " 'cb07',\n",
       " 'cb08',\n",
       " 'cb09',\n",
       " 'cb10',\n",
       " 'cb11',\n",
       " 'cb12',\n",
       " 'cb13',\n",
       " 'cb14',\n",
       " 'cb15',\n",
       " 'cb16',\n",
       " 'cb17',\n",
       " 'cb18',\n",
       " 'cb19',\n",
       " 'cb20',\n",
       " 'cb21',\n",
       " 'cb22',\n",
       " 'cb23',\n",
       " 'cb24',\n",
       " 'cb25',\n",
       " 'cb26',\n",
       " 'cb27',\n",
       " 'cc01',\n",
       " 'cc02',\n",
       " 'cc03',\n",
       " 'cc04',\n",
       " 'cc05',\n",
       " 'cc06',\n",
       " 'cc07',\n",
       " 'cc08',\n",
       " 'cc09',\n",
       " 'cc10',\n",
       " 'cc11',\n",
       " 'cc12',\n",
       " 'cc13',\n",
       " 'cc14',\n",
       " 'cc15',\n",
       " 'cc16',\n",
       " 'cc17',\n",
       " 'cd01',\n",
       " 'cd02',\n",
       " 'cd03',\n",
       " 'cd04',\n",
       " 'cd05',\n",
       " 'cd06',\n",
       " 'cd07',\n",
       " 'cd08',\n",
       " 'cd09',\n",
       " 'cd10',\n",
       " 'cd11',\n",
       " 'cd12',\n",
       " 'cd13',\n",
       " 'cd14',\n",
       " 'cd15',\n",
       " 'cd16',\n",
       " 'cd17',\n",
       " 'ce01',\n",
       " 'ce02',\n",
       " 'ce03',\n",
       " 'ce04',\n",
       " 'ce05',\n",
       " 'ce06',\n",
       " 'ce07',\n",
       " 'ce08',\n",
       " 'ce09',\n",
       " 'ce10',\n",
       " 'ce11',\n",
       " 'ce12',\n",
       " 'ce13',\n",
       " 'ce14',\n",
       " 'ce15',\n",
       " 'ce16',\n",
       " 'ce17',\n",
       " 'ce18',\n",
       " 'ce19',\n",
       " 'ce20',\n",
       " 'ce21',\n",
       " 'ce22',\n",
       " 'ce23',\n",
       " 'ce24',\n",
       " 'ce25',\n",
       " 'ce26',\n",
       " 'ce27',\n",
       " 'ce28',\n",
       " 'ce29',\n",
       " 'ce30',\n",
       " 'ce31',\n",
       " 'ce32',\n",
       " 'ce33',\n",
       " 'ce34',\n",
       " 'ce35',\n",
       " 'ce36',\n",
       " 'cf01',\n",
       " 'cf02',\n",
       " 'cf03',\n",
       " 'cf04',\n",
       " 'cf05',\n",
       " 'cf06',\n",
       " 'cf07',\n",
       " 'cf08',\n",
       " 'cf09',\n",
       " 'cf10',\n",
       " 'cf11',\n",
       " 'cf12',\n",
       " 'cf13',\n",
       " 'cf14',\n",
       " 'cf15',\n",
       " 'cf16',\n",
       " 'cf17',\n",
       " 'cf18',\n",
       " 'cf19',\n",
       " 'cf20',\n",
       " 'cf21',\n",
       " 'cf22',\n",
       " 'cf23',\n",
       " 'cf24',\n",
       " 'cf25',\n",
       " 'cf26',\n",
       " 'cf27',\n",
       " 'cf28',\n",
       " 'cf29',\n",
       " 'cf30',\n",
       " 'cf31',\n",
       " 'cf32',\n",
       " 'cf33',\n",
       " 'cf34',\n",
       " 'cf35',\n",
       " 'cf36',\n",
       " 'cf37',\n",
       " 'cf38',\n",
       " 'cf39',\n",
       " 'cf40',\n",
       " 'cf41',\n",
       " 'cf42',\n",
       " 'cf43',\n",
       " 'cf44',\n",
       " 'cf45',\n",
       " 'cf46',\n",
       " 'cf47',\n",
       " 'cf48',\n",
       " 'cg01',\n",
       " 'cg02',\n",
       " 'cg03',\n",
       " 'cg04',\n",
       " 'cg05',\n",
       " 'cg06',\n",
       " 'cg07',\n",
       " 'cg08',\n",
       " 'cg09',\n",
       " 'cg10',\n",
       " 'cg11',\n",
       " 'cg12',\n",
       " 'cg13',\n",
       " 'cg14',\n",
       " 'cg15',\n",
       " 'cg16',\n",
       " 'cg17',\n",
       " 'cg18',\n",
       " 'cg19',\n",
       " 'cg20',\n",
       " 'cg21',\n",
       " 'cg22',\n",
       " 'cg23',\n",
       " 'cg24',\n",
       " 'cg25',\n",
       " 'cg26',\n",
       " 'cg27',\n",
       " 'cg28',\n",
       " 'cg29',\n",
       " 'cg30',\n",
       " 'cg31',\n",
       " 'cg32',\n",
       " 'cg33',\n",
       " 'cg34',\n",
       " 'cg35',\n",
       " 'cg36',\n",
       " 'cg37',\n",
       " 'cg38',\n",
       " 'cg39',\n",
       " 'cg40',\n",
       " 'cg41',\n",
       " 'cg42',\n",
       " 'cg43',\n",
       " 'cg44',\n",
       " 'cg45',\n",
       " 'cg46',\n",
       " 'cg47',\n",
       " 'cg48',\n",
       " 'cg49',\n",
       " 'cg50',\n",
       " 'cg51',\n",
       " 'cg52',\n",
       " 'cg53',\n",
       " 'cg54',\n",
       " 'cg55',\n",
       " 'cg56',\n",
       " 'cg57',\n",
       " 'cg58',\n",
       " 'cg59',\n",
       " 'cg60',\n",
       " 'cg61',\n",
       " 'cg62',\n",
       " 'cg63',\n",
       " 'cg64',\n",
       " 'cg65',\n",
       " 'cg66',\n",
       " 'cg67',\n",
       " 'cg68',\n",
       " 'cg69',\n",
       " 'cg70',\n",
       " 'cg71',\n",
       " 'cg72',\n",
       " 'cg73',\n",
       " 'cg74',\n",
       " 'cg75',\n",
       " 'ch01',\n",
       " 'ch02',\n",
       " 'ch03',\n",
       " 'ch04',\n",
       " 'ch05',\n",
       " 'ch06',\n",
       " 'ch07',\n",
       " 'ch08',\n",
       " 'ch09',\n",
       " 'ch10',\n",
       " 'ch11',\n",
       " 'ch12',\n",
       " 'ch13',\n",
       " 'ch14',\n",
       " 'ch15',\n",
       " 'ch16',\n",
       " 'ch17',\n",
       " 'ch18',\n",
       " 'ch19',\n",
       " 'ch20',\n",
       " 'ch21',\n",
       " 'ch22',\n",
       " 'ch23',\n",
       " 'ch24',\n",
       " 'ch25',\n",
       " 'ch26',\n",
       " 'ch27',\n",
       " 'ch28',\n",
       " 'ch29',\n",
       " 'ch30',\n",
       " 'cj01',\n",
       " 'cj02',\n",
       " 'cj03',\n",
       " 'cj04',\n",
       " 'cj05',\n",
       " 'cj06',\n",
       " 'cj07',\n",
       " 'cj08',\n",
       " 'cj09',\n",
       " 'cj10',\n",
       " 'cj11',\n",
       " 'cj12',\n",
       " 'cj13',\n",
       " 'cj14',\n",
       " 'cj15',\n",
       " 'cj16',\n",
       " 'cj17',\n",
       " 'cj18',\n",
       " 'cj19',\n",
       " 'cj20',\n",
       " 'cj21',\n",
       " 'cj22',\n",
       " 'cj23',\n",
       " 'cj24',\n",
       " 'cj25',\n",
       " 'cj26',\n",
       " 'cj27',\n",
       " 'cj28',\n",
       " 'cj29',\n",
       " 'cj30',\n",
       " 'cj31',\n",
       " 'cj32',\n",
       " 'cj33',\n",
       " 'cj34',\n",
       " 'cj35',\n",
       " 'cj36',\n",
       " 'cj37',\n",
       " 'cj38',\n",
       " 'cj39',\n",
       " 'cj40',\n",
       " 'cj41',\n",
       " 'cj42',\n",
       " 'cj43',\n",
       " 'cj44',\n",
       " 'cj45',\n",
       " 'cj46',\n",
       " 'cj47',\n",
       " 'cj48',\n",
       " 'cj49',\n",
       " 'cj50',\n",
       " 'cj51',\n",
       " 'cj52',\n",
       " 'cj53',\n",
       " 'cj54',\n",
       " 'cj55',\n",
       " 'cj56',\n",
       " 'cj57',\n",
       " 'cj58',\n",
       " 'cj59',\n",
       " 'cj60',\n",
       " 'cj61',\n",
       " 'cj62',\n",
       " 'cj63',\n",
       " 'cj64',\n",
       " 'cj65',\n",
       " 'cj66',\n",
       " 'cj67',\n",
       " 'cj68',\n",
       " 'cj69',\n",
       " 'cj70',\n",
       " 'cj71',\n",
       " 'cj72',\n",
       " 'cj73',\n",
       " 'cj74',\n",
       " 'cj75',\n",
       " 'cj76',\n",
       " 'cj77',\n",
       " 'cj78',\n",
       " 'cj79',\n",
       " 'cj80',\n",
       " 'ck01',\n",
       " 'ck02',\n",
       " 'ck03',\n",
       " 'ck04',\n",
       " 'ck05',\n",
       " 'ck06',\n",
       " 'ck07',\n",
       " 'ck08',\n",
       " 'ck09',\n",
       " 'ck10',\n",
       " 'ck11',\n",
       " 'ck12',\n",
       " 'ck13',\n",
       " 'ck14',\n",
       " 'ck15',\n",
       " 'ck16',\n",
       " 'ck17',\n",
       " 'ck18',\n",
       " 'ck19',\n",
       " 'ck20',\n",
       " 'ck21',\n",
       " 'ck22',\n",
       " 'ck23',\n",
       " 'ck24',\n",
       " 'ck25',\n",
       " 'ck26',\n",
       " 'ck27',\n",
       " 'ck28',\n",
       " 'ck29',\n",
       " 'cl01',\n",
       " 'cl02',\n",
       " 'cl03',\n",
       " 'cl04',\n",
       " 'cl05',\n",
       " 'cl06',\n",
       " 'cl07',\n",
       " 'cl08',\n",
       " 'cl09',\n",
       " 'cl10',\n",
       " 'cl11',\n",
       " 'cl12',\n",
       " 'cl13',\n",
       " 'cl14',\n",
       " 'cl15',\n",
       " 'cl16',\n",
       " 'cl17',\n",
       " 'cl18',\n",
       " 'cl19',\n",
       " 'cl20',\n",
       " 'cl21',\n",
       " 'cl22',\n",
       " 'cl23',\n",
       " 'cl24',\n",
       " 'cm01',\n",
       " 'cm02',\n",
       " 'cm03',\n",
       " 'cm04',\n",
       " 'cm05',\n",
       " 'cm06',\n",
       " 'cn01',\n",
       " 'cn02',\n",
       " 'cn03',\n",
       " 'cn04',\n",
       " 'cn05',\n",
       " 'cn06',\n",
       " 'cn07',\n",
       " 'cn08',\n",
       " 'cn09',\n",
       " 'cn10',\n",
       " 'cn11',\n",
       " 'cn12',\n",
       " 'cn13',\n",
       " 'cn14',\n",
       " 'cn15',\n",
       " 'cn16',\n",
       " 'cn17',\n",
       " 'cn18',\n",
       " 'cn19',\n",
       " 'cn20',\n",
       " 'cn21',\n",
       " 'cn22',\n",
       " 'cn23',\n",
       " 'cn24',\n",
       " 'cn25',\n",
       " 'cn26',\n",
       " 'cn27',\n",
       " 'cn28',\n",
       " 'cn29',\n",
       " 'cp01',\n",
       " 'cp02',\n",
       " 'cp03',\n",
       " 'cp04',\n",
       " 'cp05',\n",
       " 'cp06',\n",
       " 'cp07',\n",
       " 'cp08',\n",
       " 'cp09',\n",
       " 'cp10',\n",
       " 'cp11',\n",
       " 'cp12',\n",
       " 'cp13',\n",
       " 'cp14',\n",
       " 'cp15',\n",
       " 'cp16',\n",
       " 'cp17',\n",
       " 'cp18',\n",
       " 'cp19',\n",
       " 'cp20',\n",
       " 'cp21',\n",
       " 'cp22',\n",
       " 'cp23',\n",
       " 'cp24',\n",
       " 'cp25',\n",
       " 'cp26',\n",
       " 'cp27',\n",
       " 'cp28',\n",
       " 'cp29',\n",
       " 'cr01',\n",
       " 'cr02',\n",
       " 'cr03',\n",
       " 'cr04',\n",
       " 'cr05',\n",
       " 'cr06',\n",
       " 'cr07',\n",
       " 'cr08',\n",
       " 'cr09']"
      ]
     },
     "execution_count": 7,
     "metadata": {},
     "output_type": "execute_result"
    }
   ],
   "source": [
    "#chunks의 이름 확인\n",
    "cb.fileids()"
   ]
  },
  {
   "cell_type": "code",
   "execution_count": 8,
   "metadata": {},
   "outputs": [
    {
     "data": {
      "text/plain": [
       "['The',\n",
       " 'Fulton',\n",
       " 'County',\n",
       " 'Grand',\n",
       " 'Jury',\n",
       " 'said',\n",
       " 'Friday',\n",
       " 'an',\n",
       " 'investigation',\n",
       " 'of',\n",
       " \"Atlanta's\",\n",
       " 'recent',\n",
       " 'primary',\n",
       " 'election',\n",
       " 'produced',\n",
       " '``',\n",
       " 'no',\n",
       " 'evidence',\n",
       " \"''\",\n",
       " 'that']"
      ]
     },
     "execution_count": 8,
     "metadata": {},
     "output_type": "execute_result"
    }
   ],
   "source": [
    "#처음 20단어 뽑아내기\n",
    "cb.words()[0:20]"
   ]
  },
  {
   "cell_type": "code",
   "execution_count": 9,
   "metadata": {},
   "outputs": [
    {
     "data": {
      "text/plain": [
       "[\"Atlanta's\",\n",
       " 'recent',\n",
       " 'primary',\n",
       " 'election',\n",
       " 'produced',\n",
       " '``',\n",
       " 'no',\n",
       " 'evidence',\n",
       " \"''\",\n",
       " 'that',\n",
       " 'any',\n",
       " 'irregularities',\n",
       " 'took',\n",
       " 'place',\n",
       " '.',\n",
       " 'The',\n",
       " 'jury',\n",
       " 'further',\n",
       " 'said',\n",
       " 'in']"
      ]
     },
     "execution_count": 9,
     "metadata": {},
     "output_type": "execute_result"
    }
   ],
   "source": [
    "#뉴스 카테고리에서 10~30번째 단어 뽑아내기\n",
    "cb.words(categories = 'news')[10:30]"
   ]
  },
  {
   "cell_type": "code",
   "execution_count": 10,
   "metadata": {},
   "outputs": [
    {
     "data": {
      "text/plain": [
       "['Does', 'our', 'society', 'have', 'a', 'runaway', ',', ...]"
      ]
     },
     "execution_count": 10,
     "metadata": {},
     "output_type": "execute_result"
    }
   ],
   "source": [
    "#'cg22'인 chunks에서 단어 뽑아내기\n",
    "cb.words(fileids = 'cg22')"
   ]
  },
  {
   "cell_type": "code",
   "execution_count": 11,
   "metadata": {},
   "outputs": [
    {
     "data": {
      "text/plain": [
       "[('The', 'AT'),\n",
       " ('Fulton', 'NP-TL'),\n",
       " ('County', 'NN-TL'),\n",
       " ('Grand', 'JJ-TL'),\n",
       " ('Jury', 'NN-TL'),\n",
       " ('said', 'VBD'),\n",
       " ('Friday', 'NR'),\n",
       " ('an', 'AT'),\n",
       " ('investigation', 'NN'),\n",
       " ('of', 'IN')]"
      ]
     },
     "execution_count": 11,
     "metadata": {},
     "output_type": "execute_result"
    }
   ],
   "source": [
    "#brown corpus POS tag\n",
    "cb.tagged_words()[0:10]"
   ]
  },
  {
   "cell_type": "code",
   "execution_count": 15,
   "metadata": {},
   "outputs": [
    {
     "data": {
      "text/plain": [
       "<Text: The Fulton County Grand Jury said Friday an...>"
      ]
     },
     "execution_count": 15,
     "metadata": {},
     "output_type": "execute_result"
    }
   ],
   "source": [
    "#tag가 없는 brown의 raw text\n",
    "raw_text = nltk.Text(cb.words('ca01'))\n",
    "raw_text"
   ]
  },
  {
   "cell_type": "code",
   "execution_count": 16,
   "metadata": {},
   "outputs": [
    {
     "name": "stdout",
     "output_type": "stream",
     "text": [
      "Displaying 18 of 18 matches:\n",
      "                                     Jury said Friday an investigation of Atla\n",
      " any irregularities took place . The jury further said in term-end presentment\n",
      "nducted . The September-October term jury had been charged by Fulton Superior \n",
      "f such reports was received '' , the jury said , `` considering the widespread\n",
      "s and the size of this city '' . The jury said it did find that many of Georgi\n",
      "ng and improving them '' . The grand jury commented on a number of other topic\n",
      "s '' . Merger proposed However , the jury said it believes `` these two office\n",
      "The City Purchasing Department , the jury said , `` is lacking in experienced \n",
      "was also recommended by the outgoing jury . It urged that the next Legislature\n",
      "e law may be effected '' . The grand jury took a swipe at the State Welfare De\n",
      " general assistance program '' , the jury said , but the State Welfare Departm\n",
      " burden '' on Fulton taxpayers . The jury also commented on the Fulton ordinar\n",
      "d compensation . Wards protected The jury said it found the court `` has incor\n",
      "om unmeritorious criticisms '' , the jury said . Regarding Atlanta's new multi\n",
      "w multi-million-dollar airport , the jury recommended `` that when the new man\n",
      "minate political influences '' . The jury did not elaborate , but it added tha\n",
      "jail deputies On other matters , the jury recommended that : ( 1 ) Four additi\n",
      "pension plan for city employes . The jury praised the administration and opera\n"
     ]
    }
   ],
   "source": [
    "#특정 단어가 얼마나 있는지 확인\n",
    "raw_text.concordance(\"jury\")"
   ]
  },
  {
   "cell_type": "code",
   "execution_count": 17,
   "metadata": {},
   "outputs": [
    {
     "name": "stdout",
     "output_type": "stream",
     "text": [
      "Displaying 1 of 1 matches:\n",
      "                                    recent primary election produced `` no evi\n"
     ]
    }
   ],
   "source": [
    "raw_text.concordance(\"recent\")"
   ]
  },
  {
   "cell_type": "code",
   "execution_count": 18,
   "metadata": {},
   "outputs": [
    {
     "name": "stdout",
     "output_type": "stream",
     "text": [
      "No matches\n"
     ]
    }
   ],
   "source": [
    "raw_text.concordance(\"Music\")"
   ]
  },
  {
   "cell_type": "code",
   "execution_count": 25,
   "metadata": {},
   "outputs": [
    {
     "data": {
      "text/plain": [
       "\"Austin/np-hl ,/,-hl Texas/np-hl \\n--/-- Committee/nn approval/nn of/in Gov./nn-tl Price/np Daniel's/np$ ``/`` abandoned/vbn property/nn ''/'' act/nn seemed/vbd certain/jj Thursday/nr despite/in the/at adamant/jj protests/nns of/in Texas/np bankers/nns ./.\\n\\n\\n\\tDaniel/np personally/rb led/vbd the/at fight/nn for/in the/at measure/nn ,/, which/wdt he/pps had/hvd watered/vbn down/rp considerably/rb since/in its/pp$ rejection/nn by/in two/cd previous/jj Legislatures/nns-tl ,/, in/in a/at public/jj hearing/nn before/in the/at House/nn-tl Committee/nn-tl on/in-tl Revenue/nn-tl and/cc-tl Taxation/nn-tl ./.\\n\\n\\n\\tUnder/in committee/nn rules/nns ,/, it/pps went/vbd automatically/rb to/in a/at subcommittee/nn for/in one/cd week/nn ./.\\nBut/cc questions/nns with/in which/wdt committee/nn members/nns taunted/vbd bankers/nns appearing/vbg as/cs witnesses/nns left/vbd little/ap doubt/nn that/cs they/ppss will/md recommend/vb passage/nn of/in it/ppo ./.\\n\\n\\n\\tDaniel/np termed/vbd ``/`` extremely/rb conservative/jj ''/'' his/pp$ estimate/nn that/cs it/pps would/md produce/vb 17/cd million/cd dollars/nns to/to help/vb erase/vb an/at anticipated/vbn deficit/nn of/in 63/cd million/cd dollars/nns at/in the/at end/nn of/in the/at current/jj fiscal/jj year/nn next/ap Aug./np 31/cd ./.\\n\\n\\n\\tHe/pps told/vbd the/at committee/nn the/at measure/nn would/md merely/rb provide/vb means/nns of/in enforcing/vbg the/at escheat/nn law/nn which/wdt has/hvz been/ben on/in the/at books/nns ``/`` since/in Texas/np was/bedz a/at republic/nn ''/'' ./.\\nIt/pps permits/vbz the/at state/nn to/to take/vb over/rp bank/nn accounts/nns ,/, stocks/nns and/cc other/ap personal/jj property/nn of/in persons/nns missing/vbg for/in seven/cd years/nns or/cc more/ap ./.\\n\\n\\n\\tThe/at bill/nn ,/, which/wdt Daniel/np said/vbd he/pps drafted/vbd personally/rb ,/, would/md force/vb banks/nns ,/, insurance/nn firms/nns ,/, pipeline/nn companies/nns and/cc other/ap corporations/nns to/to report/vb such/jj property/nn to/in the/at state/nn treasurer/nn ./.\\nThe/at escheat/nn law/nn cannot/md* be/be enforced/vbn now/rb because/cs it/pps is/bez almost/rb impossible/jj to/to locate/vb such/jj property/nn ,/, Daniel/np declared/vbd ./.\\n\\n\\n\\tDewey/np Lawrence/np ,/, a/at Tyler/np lawyer/nn representing/vbg the/at Texas/np-tl Bankers/nns-tl Association/nn-tl ,/, sounded/vbd the/at opposition/nn keynote/nn when/wrb he/pps said/vbd it/pps would/md force/vb banks/nns to/to violate/vb their/pp$ contractual/jj obligations/nns with/in depositors/nns and/cc undermine/vb the/at confidence/nn of/in bank/nn customers/nns ./.\\n\\n\\n\\t``/`` If/cs you/ppss destroy/vb confidence/nn in/in banks/nns ,/, you/ppss do/do something/pn to/in the/at economy/nn ''/'' ,/, he/pps said/vbd ./.\\n``/`` You/ppss take/vb out/rp of/in circulation/nn many/ap millions/nns of/in dollars/nns ''/'' ./.\\n\\n\\n\\tRep./nn-tl Charles/np E./np Hughes/np of/in Sherman/np ,/, sponsor/nn of/in the/at bill/nn ,/, said/vbd a/at failure/nn to/to enact/vb it/pps would/md amount/vb ``/`` to/in making/vbg a/at gift/nn out/rp of/in the/at taxpayers'/nns$ pockets/nns to/in banks/nns ,/, insurance/nn and/cc pipeline/nn companies/nns ''/'' ./.\\n\\n\\n\\tHis/pp$ contention/nn was/bedz denied/vbn by/in several/ap bankers/nns ,/, including/in Scott/np Hudson/np of/in Sherman/np ,/, Gaynor/np B./np Jones/np of/in Houston/np ,/, J./np B./np Brady/np of/in Harlingen/np and/cc Howard/np Cox/np of/in Austin/np ./.\\n\\n\\n\\tCox/np argued/vbd that/cs the/at bill/nn is/bez ``/`` probably/rb unconstitutional/jj ''/'' since/cs ,/, he/pps said/vbd ,/, it/pps would/md impair/vb contracts/nns ./.\\n\\n\\n\\tHe/pps also/rb complained/vbd that/cs not/* enough/ap notice/nn was/bedz given/vbn on/in the/at hearing/nn ,/, since/cs the/at bill/nn was/bedz introduced/vbn only/rb last/ap Monday/nr ./.\\nAustin/np-hl ,/,-hl Texas/np-hl \\n--/-- Senators/nns unanimously/rb approved/vbd Thursday/nr the/at bill/nn of/in Sen./nn-tl George/np Parkhouse/np of/in Dallas/np authorizing/vbg establishment/nn of/in day/nn schools/nns for/in the/at deaf/jj in/in Dallas/np and/cc the/at four/cd other/ap largest/jjt counties/nns ./.\\n\\n\\n\\tThe/at bill/nn is/bez designed/vbn to/to provide/vb special/jj schooling/nn for/in more/ap deaf/jj students/nns in/in the/at scholastic/jj age/nn at/in a/at reduced/vbn cost/nn to/in the/at state/nn ./.\\n\\n\\n\\tThere/ex was/bedz no/at debate/nn as/cs the/at Senate/nn-tl passed/vbd the/at bill/nn on/in to/in the/at House/nn-tl ./.\\n\\n\\n\\tIt/pps would/md authorize/vb the/at Texas/np-tl Education/nn-tl Agency/nn-tl to/to establish/vb county-wide/jj day/nn schools/nns for/in the/at deaf/jj in/in counties/nns of/in 300,000/cd or/cc more/ap population/nn ,/, require/vb deaf/jj children/nns between/in 6/cd and/cc 13/cd years/nns of/in age/nn to/to attend/vb the/at day/nn schools/nns ,/, permitting/vbg older/jjr ones/nns to/to attend/vb the/at residential/jj Texas/np-tl School/nn-tl for/in-tl the/at-tl Deaf/jj-tl here/rb ./.\\n\\n\\n\\tOperating/vbg budget/nn for/in the/at day/nn schools/nns in/in the/at five/cd counties/nns of/in Dallas/np ,/, Harris/np ,/, Bexar/np ,/, Tarrant/np and/cc El/np Paso/np would/md be/be $451,500/nns ,/, which/wdt would/md be/be a/at savings/nns of/in $157,460/nns yearly/rb after/in the/at first/od year's/nn$ capital/nn outlay/nn of/in $88,000/nns was/bedz absorbed/vbn ,/, Parkhouse/np told/vbd the/at Senate/nn-tl ./.\\n\\n\\n\\tThe/at TEA/nn estimated/vbd there/ex would/md be/be 182/cd scholastics/nns to/to attend/vb the/at day/nn school/nn in/in Dallas/np-tl County/nn-tl ,/, saving/vbg them/ppo from/in coming/vbg to/in Austin/np to/to live/vb in/in the/at state/nn deaf/jj school/nn ./.\\n\\n\\n\\n\\nDallas/np may/md get/vb to/to hear/vb a/at debate/nn on/in horse/nn race/nn parimutuels/nns soon/rb between/in Reps./nns-tl V./np E./np (/( Red/np )/) Berry/np and/cc Joe/np Ratcliff/np ./.\\n\\n\\n\\tWhile/cs details/nns are/ber still/rb to/to be/be worked/vbn out/rp ,/, Ratcliff/np said/vbd he/pps expects/vbz to/to tell/vb home/nr folks/nns in/in Dallas/np why/wrb he/pps thinks/vbz Berry's/np$ proposed/vbn constitutional/jj amendment/nn should/md be/be rejected/vbn ./.\\n\\n\\n\\t``/`` We're/ppss+ber getting/vbg more/ap '/' pro/jj '/' letters/nns than/in '/' con/jj '/' on/in horse/nn race/nn betting/nn ''/'' ,/, said/vbd Ratcliff/np ./.\\n``/`` But/cc I/ppss believe/vb if/cs people/nns were/bed better/rbr informed/vbn on/in this/dt question/nn ,/, most/ap of/in them/ppo would/md oppose/vb it/ppo also/rb ./.\\nI'm/ppss+bem willing/jj to/to stake/vb my/pp$ political/jj career/nn on/in it/ppo ''/'' ./.\\n\\n\\n\\tRep./nn-tl Berry/np ,/, an/at ex-gambler/nn from/in San/np Antonio/np ,/, got/vbd elected/vbn on/in his/pp$ advocacy/nn of/in betting/vbg on/in the/at ponies/nns ./.\\nA/at House/nn-tl committee/nn which/wdt heard/vbd his/pp$ local/jj option/nn proposal/nn is/bez expected/vbn to/to give/vb it/ppo a/at favorable/jj report/nn ,/, although/cs the/at resolution/nn faces/vbz hard/jj sledding/nn later/rbr ./.\\n\\n\\n\\n\\nThe/at house/nn passed/vbd finally/rb ,/, and/cc sent/vbd to/in the/at Senate/nn-tl ,/, a/at bill/nn extending/vbg the/at State/nn-tl Health/nn-tl Department's/nn$-tl authority/nn to/to give/vb planning/vbg assistance/nn to/in cities/nns ./.\\n\\n\\n\\n\\nThe/at senate/nn quickly/rb whipped/vbd through/in its/pp$ meager/jj fare/nn of/in House/nn-tl bills/nns approved/vbn by/in committees/nns ,/, passing/vbg the/at three/cd on/in the/at calendar/nn ./.\\nOne/cd validated/vbd acts/nns of/in school/nn districts/nns ./.\\nAnother/dt enlarged/vbd authority/nn of/in the/at Beaumont/np-tl Navigation/nn-tl District/nn-tl ./.\\n\\n\\n\\tThe/at third/od amended/vbd the/at enabling/vbg act/nn for/in creation/nn of/in the/at Lamar/np-tl county/nn-tl Hospital/nn-tl District/nn-tl ,/, for/in which/wdt a/at special/jj constitutional/jj amendment/nn previously/rb was/bedz adopted/vbn ./.\\n\\n\\n\\n\\nWithout/in dissent/nn ,/, senators/nns passed/vbd a/at bill/nn by/in Sen./nn-tl A./np R./np Schwartz/np of/in Galveston/np authorizing/vbg establishment/nn in/in the/at future/nn of/in a/at school/nn for/in the/at mentally/rb retarded/vbn in/in the/at Gulf/nn-tl Coast/nn-tl district/nn ./.\\nMoney/nn for/in its/pp$ construction/nn will/md be/be sought/vbn later/rbr on/rp but/cc in/in the/at meantime/nn the/at State/nn-tl Hospital/nn-tl board/nn can/md accept/vb gifts/nns and/cc donations/nns of/in a/at site/nn ./.\\n\\n\\n\\n\\nTwo/cd tax/nn revision/nn bills/nns were/bed passed/vbn ./.\\nOne/cd ,/, by/in Sen./nn-tl Louis/np Crump/np of/in San/np Saba/np ,/, would/md aid/vb more/ap than/in 17,000/cd retailers/nns who/wps pay/vb a/at group/nn of/in miscellaneous/jj excise/nn taxes/nns by/in eliminating/vbg the/at requirement/nn that/cs each/dt return/nn be/be notarized/vbn ./.\\nInstead/rb ,/, retailers/nns would/md sign/vb a/at certificate/nn of/in correctness/nn ,/, violation/nn of/in which/wdt would/md carry/vb a/at penalty/nn of/in one/cd to/in five/cd years/nns in/in prison/nn ,/, plus/cc a/at $1,000/nns fine/nn ./.\\nIt/pps was/bedz one/cd of/in a/at series/nn of/in recommendations/nns by/in the/at Texas/np-tl Research/nn-tl League/nn-tl ./.\\n\\n\\n\\n\\nThe/at other/ap bill/nn ,/, by/in Sen./nn-tl A./np M./np Aikin/np Jr./np of/in Paris/np ,/, would/md relieve/vb real/jj estate/nn brokers/nns ,/, who/wps pay/vb their/pp$ own/jj annual/jj licensing/vbg fee/nn ,/, from/in the/at $12/nns annual/jj occupation/nn license/nn on/in brokers/nns in/in such/jj as/cs stocks/nns and/cc bonds/nns ./.\\n\\n\\n\\n\\nNatural/jj gas/nn public/jj utility/nn companies/nns would/md be/be given/vbn the/at right/nn of/in eminent/jj domain/nn ,/, under/in a/at bill/nn by/in Sen./nn-tl Frank/np Owen/np 3/cd-tl ,/, of/in El/np Paso/np ,/, to/to acquire/vb sites/nns for/in underground/jj storage/nn reservoirs/nns for/in gas/nn ./.\\n\\n\\n\\n\\nMarshall/np Formby/np of/in Plainview/np ,/, former/ap chairman/nn of/in the/at Texas/np-tl Highway/nn-tl Commission/nn-tl ,/, suggested/vbd a/at plan/nn to/to fill/vb by/in appointment/nn future/jj vacancies/nns in/in the/at Legislature/nn-tl and/cc Congress/np ,/, eliminating/vbg the/at need/nn for/in costly/jj special/jj elections/nns ./.\\n\\n\\n\\tUnder/in Formby's/np$ plan/nn ,/, an/at appointee/nn would/md be/be selected/vbn by/in a/at board/nn composed/vbn of/in the/at governor/nn ,/, lieutenant/nn governor/nn ,/, speaker/nn of/in the/at House/nn-tl ,/, attorney/nn general/nn and/cc chief/jjs justice/nn of/in the/at Texas/np-tl Supreme/jj-tl Court/nn-tl ./.\\nAustin/np-hl ,/,-hl Texas/np-hl \\n--/-- State/nn representatives/nns decided/vbd Thursday/nr against/in taking/vbg a/at poll/nn on/in what/wdt kind/nn of/in taxes/nns Texans/nps would/md prefer/vb to/to pay/vb ./.\\n\\n\\n\\tAn/at adverse/jj vote/nn of/in 81/cd to/in 65/cd kept/vbd in/in the/at State/nn-tl Affairs/nns-tl Committee/nn-tl a/at bill/nn which/wdt would/md order/vb the/at referendum/nn on/in the/at April/np 4/cd ballot/nn ,/, when/wrb Texas/np votes/vbz on/in a/at U.S./np senator/nn ./.\\n\\n\\n\\tRep./nn-tl Wesley/np Roberts/np of/in Seminole/np ,/, sponsor/nn of/in the/at poll/nn idea/nn ,/, said/vbd that/cs further/jjr delay/nn in/in the/at committee/nn can/md kill/vb the/at bill/nn ./.\\n\\n\\n\\tThe/at West/jj-tl Texan/np-tl reported/vbd that/cs he/pps had/hvd finally/rb gotten/vbn Chairman/nn-tl Bill/np Hollowell/np of/in the/at committee/nn to/to set/vb it/ppo for/in public/jj hearing/nn on/in Feb./np 22/cd ./.\\nThe/at proposal/nn would/md have/hv to/to receive/vb final/jj legislative/jj approval/nn ,/, by/in two-thirds/nns majorities/nns ,/, before/in March/np 1/cd to/to be/be printed/vbn on/in the/at April/np 4/cd ballot/nn ,/, Roberts/np said/vbd ./.\\n\\n\\n\\tOpponents/nns generally/rb argued/vbd that/cs the/at ballot/nn couldn't/md* give/vb enough/ap information/nn about/in tax/nn proposals/nns for/in the/at voters/nns to/to make/vb an/at intelligent/jj choice/nn ./.\\n\\n\\n\\tAll/abn Dallas/np members/nns voted/vbd with/in Roberts/np ,/, except/in Rep./nn-tl Bill/np Jones/np ,/, who/wps was/bedz absent/jj ./.\\nAustin/np-hl ,/,-hl Texas/np-hl \\n--/-- Paradise/nn-tl lost/vbd to/in the/at alleged/vbn water/nn needs/nns of/in Texas'/np$ big/jj cities/nns Thursday/nr ./.\\n\\n\\n\\tRep./nn-tl James/np Cotten/np of/in Weatherford/np insisted/vbd that/cs a/at water/nn development/nn bill/nn passed/vbn by/in the/at Texas/np-tl House/nn-tl of/in-tl Representatives/nns-tl was/bedz an/at effort/nn by/in big/jj cities/nns like/cs Dallas/np and/cc Fort/nn-tl Worth/np to/to cover/vb up/rp places/nns like/cs Paradise/nn-tl ,/, a/at Wise/np-tl County/nn-tl hamlet/nn of/in 250/cd people/nns ./.\\n\\n\\n\\tWhen/wrb the/at shouting/nn ended/vbd ,/, the/at bill/nn passed/vbd ,/, 114/cd to/in 4/cd ,/, sending/vbg it/ppo to/in the/at Senate/nn-tl ,/, where/wrb a/at similar/jj proposal/nn is/bez being/beg sponsored/vbn by/in Sen./nn-tl George/np Parkhouse/np of/in Dallas/np ./.\\n\\n\\n\\tMost/ap of/in the/at fire/nn was/bedz directed/vbn by/in Cotten/np against/in Dallas/np and/cc Sen./nn-tl Parkhouse/np ./.\\nThe/at bill/nn would/md increase/vb from/in $5,000,000/nns to/in $15,000,000/nns the/at maximum/jj loan/nn the/at state/nn could/md make/vb to/in a/at local/jj water/nn project/nn ./.\\n\\n\\n\\tCotten/np construed/vbd this/dt as/cs a/at veiled/vbn effort/nn by/in Parkhouse/np to/to help/vb Dallas/np and/cc other/ap large/jj cities/nns get/vb money/nn which/wdt Cotten/np felt/vbd could/md better/vb be/be spent/vbn providing/vbg water/nn for/in rural/jj Texas/np ./.\\n\\n\\n\\tStatements/nns by/in other/ap legislators/nns that/cs Dallas/np is/bez paying/vbg for/in all/abn its/pp$ water/nn program/nn by/in local/jj bonds/nns ,/, and/cc that/cs less/ql populous/jj places/nns would/md benefit/vb most/rbt by/in the/at pending/jj bill/nn ,/, did/dod not/* sway/vb Cotten's/np$ attack/nn ./.\\n\\n\\n\\tThe/at bill's/nn$ defenders/nns were/bed mostly/rb small-town/nn legislators/nns like/cs J./np W./np Buchanan/np of/in Dumas/np ,/, Eligio/np (/( Kika/np )/) De/np La/np Garza/np of/in Mission/nn-tl ,/, Sam/np F./np Collins/np of/in Newton/np and/cc Joe/np Chapman/np of/in Sulphur/nn-tl Springs/nns-tl ./.\\n\\n\\n\\t``/`` This/dt is/bez a/at poor/jj boy's/nn$ bill/nn ''/'' ,/, said/vbd Chapman/np ./.\\n``/`` Dallas/np and/cc Fort/nn-tl Worth/np can/md vote/vb bonds/nns ./.\\nThis/dt would/md help/vb the/at little/jj peanut/nn districts/nns ''/'' ./.\\nAustin/np-hl ,/,-hl Texas/np-hl \\n--/-- A/at Houston/np teacher/nn ,/, now/rb serving/vbg in/in the/at Legislature/nn-tl ,/, proposed/vbd Thursday/nr a/at law/nn reducing/vbg the/at time/nn spent/vbn learning/vbg ``/`` educational/jj methods/nns ''/'' ./.\\n\\n\\n\\tRep./nn-tl Henry/np C./np Grover/np ,/, who/wps teaches/vbz history/nn in/in the/at Houston/np public/jj schools/nns ,/, would/md reduce/vb from/in 24/cd to/in 12/cd semester/nn hours/nns the/at so-called/jj ``/`` teaching/vbg methods/nns ''/'' courses/nns required/vbn to/to obtain/vb a/at junior/jj or/cc senior/jj high/jj school/nn teaching/vbg certificate/nn ./.\\nA/at normal/jj year's/nn$ work/nn in/in college/nn is/bez 30/cd semester/nn hours/nns ./.\\n\\n\\n\\tGrover/np also/rb would/md require/vb junior-senior/jj high/nn teachers/nns to/to have/hv at/in least/ap 24/cd semester/nn hours/nns credit/vb in/in the/at subject/nn they/ppss are/ber teaching/vbg ./.\\nThe/at remainder/nn of/in the/at 4-year/jj college/nn requirement/nn would/md be/be in/in general/jj subjects/nns ./.\\n\\n\\n\\t``/`` A/at person/nn with/in a/at master's/nn$ degree/nn in/in physics/nn ,/, chemistry/nn ,/, math/nn or/cc English/np ,/, yet/rb who/wps has/hvz not/* taken/vbn Education/nn-tl courses/nns ,/, is/bez not/* permitted/vbn to/to teach/vb in/in the/at public/jj schools/nns ''/'' ,/, said/vbd Grover/np ./.\\n\\n\\n\\tCollege/nn teachers/nns in/in Texas/np are/ber not/* required/vbn to/to have/hv the/at Education/nn-tl courses/nns ./.\\n\\n\\n\\tFifty-three/cd of/in the/at 150/cd representatives/nns immediately/rb joined/vbd Grover/np as/cs co-signers/nns of/in the/at proposal/nn ./.\\nParis/np-hl ,/,-hl Texas/np-hl (/(-hl sp./nn-hl )/)-hl \\n--/-- The/at board/nn of/in regents/nns of/in Paris/np-tl Junior/jj-tl College/nn-tl has/hvz named/vbn Dr./nn-tl Clarence/np Charles/np Clark/np of/in Hays/np ,/, Kan./np as/cs the/at school's/nn$ new/jj president/nn ./.\\n\\n\\n\\tDr./nn-tl Clark/np will/md succeed/vb Dr./nn-tl J./np R./np McLemore/np ,/, who/wps will/md retire/vb at/in the/at close/nn of/in the/at present/jj school/nn term/nn ./.\\n\\n\\n\\tDr./nn-tl Clark/np holds/vbz an/at earned/vbn Doctor/nn-tl of/in-tl Education/nn-tl degree/nn from/in the/at University/nn-tl of/in-tl Oklahoma/np-tl ./.\\nHe/pps also/rb received/vbd a/at Master/nn-tl of/in-tl Science/nn-tl degree/nn from/in Texas/np A/nn &/cc I/nn College/nn-tl and/cc a/at Bachelor/nn-tl of/in-tl Science/nn-tl degree/nn from/in Southwestern/jj-tl State/nn-tl College/nn-tl ,/, Weatherford/np ,/, Okla./np ./.\\n\\n\\n\\tIn/in addition/nn ,/, Dr./nn-tl Clark/np has/hvz studied/vbn at/in Rhode/np-tl Island/nn-tl State/nn-tl College/nn-tl and/cc Massachusetts/np-tl Institute/nn-tl of/in-tl Technology/nn-tl ./.\\n\\n\\n\\tDuring/in his/pp$ college/nn career/nn ,/, Dr./nn-tl Clark/np was/bedz captain/nn of/in his/pp$ basketball/nn team/nn and/cc was/bedz a/at football/nn letterman/nn ./.\\n\\n\\n\\tDr./nn-tl Clark/np has/hvz served/vbn as/cs teacher/nn and/cc principal/nn in/in Oklahoma/np high/jj schools/nns ,/, as/cs teacher/nn and/cc athletic/jj director/nn at/in Raymondville/np ,/, Texas/np ,/, High/jj-tl School/nn-tl ,/, as/cs an/at instructor/nn at/in the/at University/nn-tl of/in-tl Oklahoma/np-tl ,/, and/cc as/cs an/at associate/jj professor/nn of/in education/nn at/in Fort/nn-tl Hays/np ,/, Kan./np ,/, State/nn-tl College/nn-tl ./.\\nHe/pps has/hvz served/vbn as/cs a/at border/nn patrolman/nn and/cc was/bedz in/in the/at Signal/nn-tl Corps/nn-tl of/in the/at U.S./np-tl Army/nn-tl ./.\\nDenton/np-hl ,/,-hl Texas/np-hl (/(-hl sp./nn-hl )/)-hl \\n--/-- Principals/nns of/in the/at 13/cd schools/nns in/in the/at Denton/np-tl Independent/jj-tl School/nn-tl District/nn-tl have/hv been/ben re-elected/vbn for/in the/at 1961-62/cd session/nn upon/in the/at recommendation/nn of/in Supt./nn-tl Chester/np O./np Strickland/np ./.\\n\\n\\n\\tState/nn and/cc federal/jj legislation/nn against/in racial/jj discrimination/nn in/in employment/nn was/bedz called/vbn for/in yesterday/nr in/in a/at report/nn of/in a/at ``/`` blue/jj ribbon/nn ''/'' citizens/nns committee/nn on/in the/at aid/nn to/in dependent/jj children/nns program/vb ./.\\n\\n\\n\\tThe/at report/nn ,/, culminating/vbg a/at year/nn long/jj study/nn of/in the/at ADC/nn program/nn in/in Cook/np county/nn by/in a/at New/jj-tl York/np-tl City/nn-tl welfare/nn consulting/vbg firm/nn ,/, listed/vbd 10/cd long/jj range/nn recommendations/nns designed/vbn to/to reduce/vb the/at soaring/vbg ADC/nn case/nn load/nn ./.\\nThe/at report/nn called/vbd racial/jj discrimination/nn in/in employment/nn ``/`` one/cd of/in the/at most/ql serious/jj causes/nns of/in family/nn breakdown/nn ,/, desertion/nn ,/, and/cc ADC/nn dependency/nn ''/'' ./.\\n\\n\\n\\n``/`` Must/md-hl solve/vb-hl problem/nn-hl ''/'' \\nThe/at monthly/jj cost/nn of/in ADC/nn to/in more/ap than/in 100,000/cd recipients/nns in/in the/at county/nn is/bez 4.4/cd million/cd dollars/nns ,/, said/vbd C./np Virgil/np Martin/np ,/, president/nn of/in Carson/np Pirie/np Scott/np &/cc-tl Co./nn-tl ,/, committee/nn chairman/nn ./.\\n\\n\\n\\t``/`` We/ppss must/md solve/vb the/at problems/nns which/wdt have/hv forced/vbn these/dts people/nns to/to depend/vb upon/in ADC/nn for/in subsistence/nn ''/'' ,/, Martin/np said/vbd ./.\\n\\n\\n\\tThe/at volume/nn of/in ADC/nn cases/nns will/md decrease/vb ,/, Martin/np reported/vbd ,/, when/wrb the/at community/nn is/bez able/jj to/to deal/vb effectively/rb with/in two/cd problems/nns :/: Relatively/rb limited/vbn skills/nns and/cc discrimination/nn in/in employment/nn because/rb of/in color/nn ./.\\nThese/dts ,/, he/pps said/vbd ,/, are/ber ``/`` two/cd of/in the/at principal/jjs underlying/vbg causes/nns for/in family/nn breakups/nns leading/vbg to/in ADC/nn ''/'' ./.\\n\\n\\n\\nCalls/vbz-hl for/in-hl extension/nn-hl \\nOther/ap recommendations/nns made/vbn by/in the/at committee/nn are/ber :/: \\n\\n\\tExtension/nn of/in the/at ADC/nn program/nn to/in all/abn children/nns in/in need/nn living/vbg with/in any/dti relatives/nns ,/, including/in both/abx parents/nns ,/, as/cs a/at means/nns of/in preserving/vbg family/nn unity/nn ./.\\n\\n\\n\\tResearch/nn projects/nns as/ql soon/rb as/cs possible/jj on/in the/at causes/nns and/cc prevention/nn of/in dependency/nn and/cc illegitimacy/nn ./.\\n\\n\""
      ]
     },
     "execution_count": 25,
     "metadata": {},
     "output_type": "execute_result"
    }
   ],
   "source": [
    "#brown의 raw data\n",
    "raw_content = cb.raw('ca02')\n",
    "raw_content"
   ]
  },
  {
   "cell_type": "code",
   "execution_count": 26,
   "metadata": {},
   "outputs": [
    {
     "data": {
      "text/plain": [
       "['austen-emma.txt',\n",
       " 'austen-persuasion.txt',\n",
       " 'austen-sense.txt',\n",
       " 'bible-kjv.txt',\n",
       " 'blake-poems.txt',\n",
       " 'bryant-stories.txt',\n",
       " 'burgess-busterbrown.txt',\n",
       " 'carroll-alice.txt',\n",
       " 'chesterton-ball.txt',\n",
       " 'chesterton-brown.txt',\n",
       " 'chesterton-thursday.txt',\n",
       " 'edgeworth-parents.txt',\n",
       " 'melville-moby_dick.txt',\n",
       " 'milton-paradise.txt',\n",
       " 'shakespeare-caesar.txt',\n",
       " 'shakespeare-hamlet.txt',\n",
       " 'shakespeare-macbeth.txt',\n",
       " 'whitman-leaves.txt']"
      ]
     },
     "execution_count": 26,
     "metadata": {},
     "output_type": "execute_result"
    }
   ],
   "source": [
    "#gutenberg corpus의 chunks 확인\n",
    "cg.fileids()"
   ]
  },
  {
   "cell_type": "code",
   "execution_count": 30,
   "metadata": {},
   "outputs": [
    {
     "data": {
      "text/plain": [
       "'[The Adventures of Buster Bear by Thornton W. Burgess 1920]\\r\\n\\r\\nI\\r\\n\\r\\nBUSTER BEAR GOES FISHING\\r\\n\\r\\n\\r\\nBuster Bear yawned as he lay on his comfortable bed of leaves and\\r\\nwatched the first early morning sunbeams creeping through the Green\\r\\nForest to chase out the Black Shadows. Once more he yawned, and slowly\\r\\ngot to his feet and shook himself. Then he walked over to a big\\r\\npine-tree, stood up on his hind legs, reached as high up on the trunk of\\r\\nthe tree as he could, and scratched the bark with his great claws. After\\r\\nthat he yawned until it seemed as if his jaws would crack, and then sat\\r\\ndown to think what he wanted for breakfast.\\r\\n\\r\\nWhile he sat there, trying to make up his mind what would taste best, he\\r\\nwas listening to the sounds that told of the waking of all the little\\r\\npeople who live in the Green Forest. He heard Sammy Jay way off in the\\r\\ndistance screaming, \"Thief! Thief!\" and grinned. \"I wonder,\" thought\\r\\nBuster, \"if some one has stolen Sammy\\'s breakfast, or if he has stolen\\r\\nth'"
      ]
     },
     "execution_count": 30,
     "metadata": {},
     "output_type": "execute_result"
    }
   ],
   "source": [
    "#burgess-busterbrown.txt의 처음 1000개 단어\n",
    "raw_content_cg = cg.raw('burgess-busterbrown.txt')[0:1000]\n",
    "raw_content_cg"
   ]
  },
  {
   "cell_type": "code",
   "execution_count": 31,
   "metadata": {},
   "outputs": [
    {
     "data": {
      "text/plain": [
       "84663"
      ]
     },
     "execution_count": 31,
     "metadata": {},
     "output_type": "execute_result"
    }
   ],
   "source": [
    "#burgess-busterbrown.txt에 총 몇단어가 들어갔는지 살펴보기\n",
    "num_char_cg = len(cg.raw('burgess-busterbrown.txt'))\n",
    "num_char_cg"
   ]
  },
  {
   "cell_type": "code",
   "execution_count": 32,
   "metadata": {},
   "outputs": [
    {
     "data": {
      "text/plain": [
       "18963"
      ]
     },
     "execution_count": 32,
     "metadata": {},
     "output_type": "execute_result"
    }
   ],
   "source": [
    "#burgess-busterbrown.txt에 몇 가지의 단어가 들어갔는지 살펴보기\n",
    "num_words_cg = len(cg.words('burgess-busterbrown.txt'))\n",
    "num_words_cg"
   ]
  },
  {
   "cell_type": "code",
   "execution_count": 33,
   "metadata": {},
   "outputs": [
    {
     "data": {
      "text/plain": [
       "1054"
      ]
     },
     "execution_count": 33,
     "metadata": {},
     "output_type": "execute_result"
    }
   ],
   "source": [
    "#burgess-busterbrown.txt에 몇 개의 문장이 들어갔는지 확인\n",
    "num_sen_cg = len(cg.sents('burgess-busterbrown.txt'))\n",
    "num_sen_cg"
   ]
  },
  {
   "cell_type": "code",
   "execution_count": null,
   "metadata": {},
   "outputs": [],
   "source": [
    "#특정 corpus 이용해보기\n",
    "contents = open(\"/admin/datasets/customdata2.txt\").read()"
   ]
  },
  {
   "cell_type": "code",
   "execution_count": 44,
   "metadata": {},
   "outputs": [
    {
     "data": {
      "text/plain": [
       "[(',', 18713),\n",
       " ('the', 13721),\n",
       " ('.', 6862),\n",
       " ('of', 6536),\n",
       " ('and', 6024),\n",
       " ('a', 4569),\n",
       " ('to', 4542),\n",
       " (';', 4072),\n",
       " ('in', 3916),\n",
       " ('that', 2982),\n",
       " (\"'\", 2684),\n",
       " ('-', 2552),\n",
       " ('his', 2459),\n",
       " ('it', 2209),\n",
       " ('I', 2124),\n",
       " ('s', 1739),\n",
       " ('is', 1695),\n",
       " ('he', 1661),\n",
       " ('with', 1659),\n",
       " ('was', 1632),\n",
       " ('as', 1620),\n",
       " ('\"', 1478),\n",
       " ('all', 1462),\n",
       " ('for', 1414),\n",
       " ('this', 1280),\n",
       " ('!', 1269),\n",
       " ('at', 1231),\n",
       " ('by', 1137),\n",
       " ('but', 1113),\n",
       " ('not', 1103),\n",
       " ('--', 1070),\n",
       " ('him', 1058),\n",
       " ('from', 1052),\n",
       " ('be', 1030),\n",
       " ('on', 1005),\n",
       " ('so', 918),\n",
       " ('whale', 906),\n",
       " ('one', 889),\n",
       " ('you', 841),\n",
       " ('had', 767),\n",
       " ('have', 760),\n",
       " ('there', 715),\n",
       " ('But', 705),\n",
       " ('or', 697),\n",
       " ('were', 680),\n",
       " ('now', 646),\n",
       " ('which', 640),\n",
       " ('?', 637),\n",
       " ('me', 627),\n",
       " ('like', 624)]"
      ]
     },
     "execution_count": 44,
     "metadata": {},
     "output_type": "execute_result"
    }
   ],
   "source": [
    "#corpus의 빈도 파악하기\n",
    "from nltk.book import *\n",
    "fdist1 = FreqDist(text1)\n",
    "fdist1.most_common(50)"
   ]
  },
  {
   "cell_type": "code",
   "execution_count": 46,
   "metadata": {},
   "outputs": [],
   "source": [
    "#토큰(해당 문장의 단어 빈도 표시)\n",
    "import nltk\n",
    "from nltk import FreqDist"
   ]
  },
  {
   "cell_type": "code",
   "execution_count": 48,
   "metadata": {},
   "outputs": [
    {
     "data": {
      "text/plain": [
       "FreqDist({'.': 2,\n",
       "          'This': 2,\n",
       "          'a': 1,\n",
       "          'is': 2,\n",
       "          'my': 1,\n",
       "          'sentence': 2,\n",
       "          'test': 1})"
      ]
     },
     "execution_count": 48,
     "metadata": {},
     "output_type": "execute_result"
    }
   ],
   "source": [
    "sentence = '''This is my sentence. This is a test sentence.'''\n",
    "tokens = nltk.word_tokenize(sentence)\n",
    "fdist = FreqDist(tokens)\n",
    "fdist"
   ]
  },
  {
   "cell_type": "code",
   "execution_count": 56,
   "metadata": {},
   "outputs": [
    {
     "data": {
      "text/plain": [
       "[(',', 192339),\n",
       " ('the', 125714),\n",
       " ('and', 78725),\n",
       " ('.', 76318),\n",
       " ('of', 70031),\n",
       " ('to', 46102),\n",
       " ('a', 32387),\n",
       " ('in', 31868),\n",
       " ('I', 29920),\n",
       " (';', 27942),\n",
       " ('that', 27259),\n",
       " ('he', 22179),\n",
       " ('his', 20580),\n",
       " ('it', 19656),\n",
       " ('was', 18618),\n",
       " ('not', 17640),\n",
       " (\"''\", 17042),\n",
       " ('for', 16839),\n",
       " ('with', 16823),\n",
       " (':', 16523),\n",
       " ('And', 16506),\n",
       " ('is', 16143),\n",
       " ('be', 15818),\n",
       " ('you', 14582),\n",
       " ('``', 14118),\n",
       " ('as', 13331),\n",
       " ('all', 12911),\n",
       " ('him', 12909),\n",
       " ('they', 11526),\n",
       " ('shall', 11455),\n",
       " ('her', 11129),\n",
       " ('?', 10342),\n",
       " ('them', 10206),\n",
       " ('had', 10196),\n",
       " ('have', 9932),\n",
       " ('--', 9581),\n",
       " ('my', 9579),\n",
       " ('said', 9408),\n",
       " ('me', 9345),\n",
       " ('but', 9229),\n",
       " (\"'s\", 9076),\n",
       " ('unto', 8953),\n",
       " ('!', 8660),\n",
       " ('from', 8647),\n",
       " ('at', 8635),\n",
       " ('which', 8433),\n",
       " ('on', 8166),\n",
       " ('by', 7981),\n",
       " ('this', 7702),\n",
       " ('their', 7515)]"
      ]
     },
     "execution_count": 56,
     "metadata": {},
     "output_type": "execute_result"
    }
   ],
   "source": [
    "data = nltk.word_tokenize(raw)\n",
    "fdist = FreqDist(data)\n",
    "fdist.most_common(50)"
   ]
  },
  {
   "cell_type": "code",
   "execution_count": 61,
   "metadata": {},
   "outputs": [
    {
     "data": {
      "text/plain": [
       "20845"
      ]
     },
     "execution_count": 61,
     "metadata": {},
     "output_type": "execute_result"
    }
   ],
   "source": [
    "#brown corpus에서 fileID : fileidcc12인 단어의 수를 계산하라\n",
    "len(cb.raw('cc12'))"
   ]
  },
  {
   "cell_type": "code",
   "execution_count": 62,
   "metadata": {},
   "outputs": [
    {
     "data": {
      "text/plain": [
       "['_LazyModule__lazymodule_globals',\n",
       " '_LazyModule__lazymodule_import',\n",
       " '_LazyModule__lazymodule_init',\n",
       " '_LazyModule__lazymodule_loaded',\n",
       " '_LazyModule__lazymodule_locals',\n",
       " '_LazyModule__lazymodule_name',\n",
       " '__class__',\n",
       " '__delattr__',\n",
       " '__dict__',\n",
       " '__dir__',\n",
       " '__doc__',\n",
       " '__eq__',\n",
       " '__format__',\n",
       " '__ge__',\n",
       " '__getattr__',\n",
       " '__getattribute__',\n",
       " '__gt__',\n",
       " '__hash__',\n",
       " '__init__',\n",
       " '__init_subclass__',\n",
       " '__le__',\n",
       " '__lt__',\n",
       " '__module__',\n",
       " '__name__',\n",
       " '__ne__',\n",
       " '__new__',\n",
       " '__reduce__',\n",
       " '__reduce_ex__',\n",
       " '__repr__',\n",
       " '__setattr__',\n",
       " '__sizeof__',\n",
       " '__str__',\n",
       " '__subclasshook__',\n",
       " '__weakref__']"
      ]
     },
     "execution_count": 62,
     "metadata": {},
     "output_type": "execute_result"
    }
   ],
   "source": [
    "#nltk에 있는 내장 corpus 살펴보기\n",
    "import nltk\n",
    "dir(nltk.corpus)"
   ]
  },
  {
   "cell_type": "code",
   "execution_count": null,
   "metadata": {},
   "outputs": [],
   "source": []
  }
 ],
 "metadata": {
  "kernelspec": {
   "display_name": "Python 3",
   "language": "python",
   "name": "python3"
  },
  "language_info": {
   "codemirror_mode": {
    "name": "ipython",
    "version": 3
   },
   "file_extension": ".py",
   "mimetype": "text/x-python",
   "name": "python",
   "nbconvert_exporter": "python",
   "pygments_lexer": "ipython3",
   "version": "3.6.4"
  }
 },
 "nbformat": 4,
 "nbformat_minor": 2
}
